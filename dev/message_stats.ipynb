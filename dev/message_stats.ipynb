{
 "cells": [
  {
   "cell_type": "code",
   "execution_count": 7,
   "metadata": {},
   "outputs": [],
   "source": [
    "# step 1: download messages and chats from db\n",
    "import os\n",
    "\n",
    "from dotenv import load_dotenv\n",
    "from pymongo import MongoClient\n",
    "\n",
    "load_dotenv()\n",
    "\n",
    "MONGO_CONN_STR = os.getenv(\"MONGO_CONN_STR\")\n",
    "client = MongoClient(MONGO_CONN_STR)\n",
    "db_name = os.getenv(\"MONGO_DB_NAME\")\n",
    "db = client[db_name]\n",
    "messages_collection = db.telegram_messages\n",
    "chats_collection = db.telegram_chats\n",
    "\n",
    "messages_data = messages_collection.find()\n",
    "chats_data = chats_collection.find()\n",
    "from telegram_downloader.data_model import ChatData\n",
    "\n",
    "messages = list(messages_data)\n",
    "# for msg in messages_data:\n",
    "#     msg.pop(\"_id\")\n",
    "#     msg.pop(\"_\")\n",
    "#     messages.append(Message(**msg))\n",
    "\n",
    "chats = []\n",
    "for chat in chats_data:\n",
    "    chat.pop(\"_id\")\n",
    "    chats.append(ChatData(**chat))\n"
   ]
  },
  {
   "cell_type": "markdown",
   "metadata": {},
   "source": [
    "Idea 1: My messages\n",
    "- total messages sent by me\n",
    "- chats with most messages sent\n",
    "- groups with most messages sent\n",
    "\n",
    "- plot of my message distrubution per chat\n",
    "- plot of my message distribution per day, month, year"
   ]
  },
  {
   "cell_type": "code",
   "execution_count": 10,
   "metadata": {},
   "outputs": [
    {
     "name": "stdout",
     "output_type": "stream",
     "text": [
      "82 41\n"
     ]
    }
   ],
   "source": [
    "# import pandas as pd\n",
    "\n",
    "\n",
    "def flatten_item_recursive(item: dict, prefix: str = \"\") -> dict:\n",
    "    if isinstance(item, dict):\n",
    "        res = {}\n",
    "        for k, v in item.items():\n",
    "            new_prefix = f\"{prefix}.{k}\" if prefix else k\n",
    "            res.update(flatten_item_recursive(v, prefix=new_prefix))\n",
    "        return res\n",
    "    else:\n",
    "        return {prefix: item}\n",
    "\n",
    "\n",
    "x = flatten_item_recursive(messages[0])\n",
    "print(len(x), len(messages[0]))\n",
    "\n",
    "# def build_messages_db(messages: List[dict])-> pd.DataFrame:"
   ]
  },
  {
   "cell_type": "code",
   "execution_count": null,
   "metadata": {},
   "outputs": [],
   "source": [
    "my_messages = [msg for msg in messages_data if msg[\"from_id\"] == \"petrlavrov\"]"
   ]
  },
  {
   "cell_type": "code",
   "execution_count": 29,
   "metadata": {},
   "outputs": [],
   "source": [
    "import pandas as pd\n",
    "\n",
    "sample = messages[:100]\n",
    "df = pd.DataFrame(map(flatten_item_recursive, sample))\n"
   ]
  },
  {
   "cell_type": "code",
   "execution_count": 24,
   "metadata": {},
   "outputs": [],
   "source": [
    "# filter out my messages only\n",
    "user_id = int(os.getenv(\"TELEGRAM_USER_ID\"))\n",
    "my_messages = [msg for msg in messages if\n",
    "               (msg.get('from_id', {}) or {}).get('user_id') == user_id]\n",
    "flatten_messages = list(map(flatten_item_recursive, my_messages))\n"
   ]
  },
  {
   "cell_type": "code",
   "execution_count": 47,
   "metadata": {},
   "outputs": [],
   "source": [
    "df = pd.DataFrame(flatten_messages)"
   ]
  },
  {
   "cell_type": "code",
   "execution_count": 48,
   "metadata": {},
   "outputs": [],
   "source": [
    "chat_names = {chat.id: chat.name for chat in chats}\n",
    "dict(list(chat_names.items())[:10])\n",
    "chat_categories = {chat.id: chat.entity_category for chat in chats}\n",
    "\n",
    "\n",
    "def augment_df(df):\n",
    "    # chat id\n",
    "    # chat name\n",
    "    # chat type -> entity category\n",
    "    df['chat_id'] = df[['peer_id.channel_id', 'peer_id.chat_id',\n",
    "                        'peer_id.user_id']].bfill(axis=1).iloc[:, 0].astype(int)\n",
    "    df['chat_name'] = df['chat_id'].map(chat_names)\n",
    "    df['chat_category'] = df['chat_id'].map(chat_categories)\n",
    "    return df\n",
    "\n",
    "\n",
    "df = augment_df(df)\n"
   ]
  },
  {
   "cell_type": "code",
   "execution_count": 49,
   "metadata": {},
   "outputs": [
    {
     "data": {
      "text/plain": [
       "0         group\n",
       "1         group\n",
       "2         group\n",
       "3           bot\n",
       "4           bot\n",
       "          ...  \n",
       "131618    group\n",
       "131619    group\n",
       "131620    group\n",
       "131621    group\n",
       "131622    group\n",
       "Name: chat_category, Length: 131623, dtype: object"
      ]
     },
     "execution_count": 49,
     "metadata": {},
     "output_type": "execute_result"
    },
    {
     "ename": "",
     "evalue": "",
     "output_type": "error",
     "traceback": [
      "\u001B[1;31mThe Kernel crashed while executing code in the current cell or a previous cell. \n",
      "\u001B[1;31mPlease review the code in the cell(s) to identify a possible cause of the failure. \n",
      "\u001B[1;31mClick <a href='https://aka.ms/vscodeJupyterKernelCrash'>here</a> for more info. \n",
      "\u001B[1;31mView Jupyter <a href='command:jupyter.viewOutput'>log</a> for further details."
     ]
    }
   ],
   "source": [
    "df['chat_category']\n"
   ]
  },
  {
   "cell_type": "markdown",
   "metadata": {},
   "source": [
    "Awesome! Let's do stats!\n",
    "\n",
    "Idea 1: My messages\n",
    "- total messages sent by me\n",
    "  \n",
    "- chats with most messages sent\n",
    "- groups with most messages sent\n",
    "\n",
    "- plot of my message distrubution per chat\n",
    "- plot of my message distribution per day, month, year"
   ]
  },
  {
   "cell_type": "code",
   "execution_count": 28,
   "metadata": {},
   "outputs": [
    {
     "data": {
      "text/plain": [
       "{2373457856: 'CalmMage Daily Meditation [2373457856]',\n",
       " 2332193270: 'EF Once-a-week Challenges [2332193270]',\n",
       " 2066938266: 'Интересные мысли (без репостов) [2066938266]',\n",
       " 2084292315: 'CalmMage Raw (ex. Daily) [2084292315]',\n",
       " 1551656064: 'CalmMage Life [1551656064]',\n",
       " 1722020175: 'EF Channel [1722020175]',\n",
       " 1867177448: 'CalmMage Dev @calmMageDev [1867177448]',\n",
       " 1980795916: 'EF: Org [1980795916]',\n",
       " 6854055412: 'Petr Lavrov Urgent @petrlavrovurgent [6854055412]',\n",
       " 463004712: 'Anna Lavrova @annlavrova [463004712]'}"
      ]
     },
     "execution_count": 28,
     "metadata": {},
     "output_type": "execute_result"
    }
   ],
   "source": []
  },
  {
   "cell_type": "code",
   "execution_count": 25,
   "metadata": {},
   "outputs": [
    {
     "data": {
      "text/plain": [
       "131623"
      ]
     },
     "execution_count": 25,
     "metadata": {},
     "output_type": "execute_result"
    }
   ],
   "source": [
    "# part 0\n",
    "stats = {}\n",
    "# part 1: calc stats\n",
    "stats['total_messages'] = len(df)\n",
    "\n",
    "\n",
    "\n",
    "\n"
   ]
  },
  {
   "cell_type": "code",
   "execution_count": null,
   "metadata": {},
   "outputs": [],
   "source": []
  }
 ],
 "metadata": {
  "kernelspec": {
   "display_name": ".venv",
   "language": "python",
   "name": "python3"
  },
  "language_info": {
   "codemirror_mode": {
    "name": "ipython",
    "version": 3
   },
   "file_extension": ".py",
   "mimetype": "text/x-python",
   "name": "python",
   "nbconvert_exporter": "python",
   "pygments_lexer": "ipython3",
   "version": "3.13.1"
  }
 },
 "nbformat": 4,
 "nbformat_minor": 2
}
