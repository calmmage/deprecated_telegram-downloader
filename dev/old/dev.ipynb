{
 "cells": [
  {
   "cell_type": "code",
   "execution_count": 1,
   "metadata": {},
   "outputs": [
    {
     "name": "stdout",
     "output_type": "stream",
     "text": [
      "1\n"
     ]
    }
   ],
   "source": [
    "print(1)"
   ]
  },
  {
   "cell_type": "code",
   "execution_count": 1,
   "metadata": {
    "ExecuteTime": {
     "end_time": "2025-01-01T01:02:19.724734Z",
     "start_time": "2025-01-01T01:02:19.715871Z"
    }
   },
   "outputs": [],
   "source": [
    "from pathlib import Path\n",
    "\n",
    "p = Path('chats.json')\n",
    "x = p.read_bytes()\n",
    "import json\n",
    "\n",
    "d = json.loads(x)\n"
   ]
  },
  {
   "cell_type": "code",
   "execution_count": 9,
   "metadata": {
    "ExecuteTime": {
     "end_time": "2025-01-01T01:03:36.023135Z",
     "start_time": "2025-01-01T01:03:36.019742Z"
    }
   },
   "outputs": [],
   "source": [
    "from telethon.types import Channel\n",
    "\n",
    "e = json.loads(d['chats'][0]['entity'])\n",
    "e.pop('_')\n",
    "f = Channel(**e)"
   ]
  },
  {
   "cell_type": "code",
   "execution_count": 10,
   "metadata": {
    "ExecuteTime": {
     "end_time": "2025-01-01T01:03:43.759635Z",
     "start_time": "2025-01-01T01:03:43.756849Z"
    }
   },
   "outputs": [],
   "source": [
    "xx = f.to_dict()"
   ]
  },
  {
   "cell_type": "code",
   "execution_count": 11,
   "metadata": {
    "ExecuteTime": {
     "end_time": "2025-01-01T01:03:48.422660Z",
     "start_time": "2025-01-01T01:03:48.419567Z"
    }
   },
   "outputs": [
    {
     "data": {
      "text/plain": [
       "'{\"_\": \"Channel\", \"id\": 2373457856, \"title\": \"CalmMage Daily Meditation\", \"photo\": {\"_\": \"ChatPhoto\", \"photo_id\": 5221936468610636825, \"dc_id\": 2, \"has_video\": false, \"stripped_thumb\": \"AQgIpbV+z54ooopgfw==\"}, \"date\": \"2024-10-07T06:39:16+00:00\", \"creator\": true, \"left\": false, \"broadcast\": false, \"verified\": false, \"megagroup\": true, \"restricted\": false, \"signatures\": false, \"min\": false, \"scam\": false, \"has_link\": false, \"has_geo\": false, \"slowmode_enabled\": false, \"call_active\": false, \"call_not_empty\": false, \"fake\": false, \"gigagroup\": false, \"noforwards\": false, \"join_to_send\": false, \"join_request\": false, \"forum\": false, \"stories_hidden\": false, \"stories_hidden_min\": false, \"stories_unavailable\": true, \"signature_profiles\": false, \"access_hash\": 8371095179012486494, \"username\": null, \"restriction_reason\": [], \"admin_rights\": {\"_\": \"ChatAdminRights\", \"change_info\": true, \"post_messages\": true, \"edit_messages\": true, \"delete_messages\": true, \"ban_users\": true, \"invite_users\": true, \"pin_messages\": true, \"add_admins\": true, \"anonymous\": false, \"manage_call\": true, \"other\": true, \"manage_topics\": true, \"post_stories\": true, \"edit_stories\": true, \"delete_stories\": true}, \"banned_rights\": null, \"default_banned_rights\": {\"_\": \"ChatBannedRights\", \"until_date\": \"2038-01-19T03:14:07+00:00\", \"view_messages\": false, \"send_messages\": false, \"send_media\": false, \"send_stickers\": false, \"send_gifs\": false, \"send_games\": false, \"send_inline\": false, \"embed_links\": false, \"send_polls\": false, \"change_info\": false, \"invite_users\": false, \"pin_messages\": false, \"manage_topics\": false, \"send_photos\": false, \"send_videos\": false, \"send_roundvideos\": false, \"send_audios\": false, \"send_voices\": false, \"send_docs\": false, \"send_plain\": false}, \"participants_count\": 6, \"usernames\": [], \"stories_max_id\": null, \"color\": null, \"profile_color\": null, \"emoji_status\": null, \"level\": null, \"subscription_until_date\": null}'"
      ]
     },
     "execution_count": 11,
     "metadata": {},
     "output_type": "execute_result"
    }
   ],
   "source": []
  },
  {
   "cell_type": "code",
   "execution_count": 3,
   "metadata": {},
   "outputs": [],
   "source": [
    "import datetime\n",
    "\n",
    "datetime.datetime.now().tzinfo"
   ]
  },
  {
   "cell_type": "code",
   "execution_count": 4,
   "metadata": {},
   "outputs": [
    {
     "data": {
      "text/plain": [
       "datetime.timezone.utc"
      ]
     },
     "execution_count": 4,
     "metadata": {},
     "output_type": "execute_result"
    }
   ],
   "source": [
    "\n",
    "datetime.datetime.now(datetime.timezone.utc).tzinfo\n"
   ]
  },
  {
   "cell_type": "code",
   "execution_count": 3,
   "metadata": {
    "ExecuteTime": {
     "end_time": "2025-01-01T04:54:35.386181Z",
     "start_time": "2025-01-01T04:54:35.256767Z"
    }
   },
   "outputs": [],
   "source": [
    "from telethon.sessions import StringSession\n",
    "from telethon import TelegramClient\n",
    "from pathlib import Path\n",
    "from loguru import logger\n",
    "\n",
    "\n",
    "async def export_session_to_string(client: TelegramClient) -> str:\n",
    "    \"\"\"Export current session to a string format.\"\"\"\n",
    "    return StringSession.save(client.session)\n",
    "\n",
    "\n",
    "async def load_session_from_string(\n",
    "        session_str: str,\n",
    "        api_id: str,\n",
    "        api_hash: str\n",
    ") -> TelegramClient:\n",
    "    \"\"\"Create a new client from a session string.\"\"\"\n",
    "    client = TelegramClient(\n",
    "        StringSession(session_str),\n",
    "        api_id=api_id,\n",
    "        api_hash=api_hash\n",
    "    )\n",
    "    return client\n",
    "\n",
    "\n",
    "async def save_session_string(client: TelegramClient, path: Path):\n",
    "    \"\"\"Save current session string to a file.\"\"\"\n",
    "    session_str = await export_session_to_string(client)\n",
    "    path.write_text(session_str)\n",
    "    logger.info(f\"Session string saved to {path}\")\n",
    "\n",
    "\n",
    "async def load_session_string(path: Path) -> str:\n",
    "    \"\"\"Load session string from a file.\"\"\"\n",
    "    if not path.exists():\n",
    "        raise FileNotFoundError(f\"Session file not found: {path}\")\n",
    "    return path.read_text().strip()"
   ]
  },
  {
   "cell_type": "code",
   "execution_count": 4,
   "metadata": {
    "ExecuteTime": {
     "end_time": "2025-01-01T04:54:35.635582Z",
     "start_time": "2025-01-01T04:54:35.630800Z"
    }
   },
   "outputs": [],
   "source": [
    "from dotenv import load_dotenv\n",
    "\n",
    "load_dotenv()\n",
    "import os\n",
    "\n",
    "client = TelegramClient(\n",
    "    \"sessions/user_291560340\",\n",
    "    api_id=os.getenv(\"TELEGRAM_API_ID\"),\n",
    "    api_hash=os.getenv(\"TELEGRAM_API_HASH\")\n",
    ")\n",
    "\n"
   ]
  },
  {
   "cell_type": "code",
   "execution_count": 10,
   "metadata": {},
   "outputs": [],
   "source": [
    "s = await export_session_to_string(client)"
   ]
  },
  {
   "cell_type": "code",
   "execution_count": 7,
   "metadata": {
    "ExecuteTime": {
     "end_time": "2025-01-01T04:55:05.800049Z",
     "start_time": "2025-01-01T04:55:01.731245Z"
    }
   },
   "outputs": [],
   "source": [
    "await client.start()\n",
    "chats = await client.get_dialogs()"
   ]
  },
  {
   "cell_type": "code",
   "execution_count": 8,
   "metadata": {
    "ExecuteTime": {
     "end_time": "2025-01-01T04:55:10.138713Z",
     "start_time": "2025-01-01T04:55:10.135705Z"
    }
   },
   "outputs": [
    {
     "data": {
      "text/plain": [
       "1780"
      ]
     },
     "execution_count": 8,
     "metadata": {},
     "output_type": "execute_result"
    }
   ],
   "source": [
    "len(chats)"
   ]
  },
  {
   "cell_type": "code",
   "execution_count": 2,
   "metadata": {},
   "outputs": [],
   "source": [
    "import os\n",
    "\n",
    "mongo_conn_str = os.getenv(\"MONGO_CONN_STR\")\n",
    "mongo_db_name = os.getenv(\"MONGO_DB_NAME\")\n",
    "from pymongo import MongoClient\n",
    "\n",
    "mongo_client = MongoClient(mongo_conn_str)\n",
    "\n",
    "message_collection = mongo_client[mongo_db_name].telegram_messages\n",
    "# mongo_client[mongo_db_name].telegram_chats.find_one({\"id\": 1})\n",
    "\n",
    "data = message_collection.find()\n"
   ]
  },
  {
   "cell_type": "code",
   "execution_count": 3,
   "metadata": {},
   "outputs": [],
   "source": [
    "data = list(data)"
   ]
  },
  {
   "cell_type": "code",
   "execution_count": 4,
   "metadata": {},
   "outputs": [
    {
     "data": {
      "text/plain": [
       "3"
      ]
     },
     "execution_count": 4,
     "metadata": {},
     "output_type": "execute_result"
    }
   ],
   "source": [
    "signatures = set()\n",
    "for item in data:\n",
    "    # keys = item['from_id'].keys()\n",
    "    keys = item['peer_id'].keys()\n",
    "\n",
    "    signature = tuple(sorted(keys))\n",
    "    signatures.add(signature)\n",
    "\n",
    "len(signatures)\n"
   ]
  },
  {
   "cell_type": "code",
   "execution_count": 5,
   "metadata": {},
   "outputs": [
    {
     "data": {
      "text/plain": [
       "{('_', 'channel_id'), ('_', 'chat_id'), ('_', 'user_id')}"
      ]
     },
     "execution_count": 5,
     "metadata": {},
     "output_type": "execute_result"
    }
   ],
   "source": [
    "signatures"
   ]
  },
  {
   "cell_type": "code",
   "execution_count": 6,
   "metadata": {},
   "outputs": [],
   "source": [
    "# step 1: get chats\n",
    "\n",
    "# step 2: make a dict of chat names\n",
    "\n",
    "# step 3: util - search chat by name or tag\n",
    "\n",
    "# step 4: search messages by chat\n",
    "\n"
   ]
  },
  {
   "cell_type": "code",
   "execution_count": 21,
   "metadata": {},
   "outputs": [],
   "source": [
    "# step 1\n",
    "chat_collection = mongo_client[mongo_db_name].telegram_chats\n",
    "\n",
    "from telegram_downloader.data_model import ChatData\n",
    "\n",
    "chats = {}\n",
    "for chat in chat_collection.find():\n",
    "    chat.pop(\"_id\")\n",
    "    chats[chat['id']] = ChatData(**chat)\n",
    "\n"
   ]
  },
  {
   "cell_type": "code",
   "execution_count": 22,
   "metadata": {},
   "outputs": [],
   "source": [
    "# step 2\n",
    "chat_names = {}\n",
    "for chat_id, chat in chats.items():\n",
    "    chat_names[chat_id] = chat.name\n",
    "\n",
    "\n",
    "# step 3\n",
    "def find_chat(key):\n",
    "    res = {}\n",
    "    for chat_id, chat_name in chat_names.items():\n",
    "        if key in chat_name:\n",
    "            res[chat_id] = chat_name\n",
    "    return res\n",
    "\n",
    "\n",
    "chats_1 = find_chat(\"Лавровы и\")\n",
    "\n",
    "\n",
    "\n"
   ]
  },
  {
   "cell_type": "code",
   "execution_count": 23,
   "metadata": {},
   "outputs": [
    {
     "data": {
      "text/plain": [
       "{1499145031: 'Лавровы и Миша [1499145031]',\n",
       " 1932431153: 'Лавровы и Кудринские-Орловы [1932431153]',\n",
       " 1585809155: 'Лавровы и Кремер [1585809155]',\n",
       " 4166349425: 'Лавровы и Женя+Дима [4166349425]',\n",
       " 1668306031: 'Лавровы и Федя [1668306031]',\n",
       " 4588497075: 'Лавровы и Ирина [4588497075]',\n",
       " 4734710439: 'Лавровы и Ира+Саша [4734710439]',\n",
       " 747543506: 'Лавровы и Даня+Мира [747543506]',\n",
       " 1988014015: 'Лавровы и Леша [1988014015]',\n",
       " 510862650: 'Лавровы и Тюрины (Mature and wise) [510862650]',\n",
       " 4080095794: 'Лавровы и Маша [4080095794]',\n",
       " 1907528478: 'Лавровы и Илья [1907528478]',\n",
       " 1865008520: 'Лавровы и Козловы [1865008520]',\n",
       " 4099815352: 'Лавровы и Водолагины [4099815352]',\n",
       " 1688225441: 'Лавровы и Паша Д [1688225441]',\n",
       " 923652288: 'Лавровы и Коля [923652288]',\n",
       " 4557251600: 'Лавровы и Марина Б [4557251600]',\n",
       " 4579681731: 'Лавровы и Филипп [4579681731]',\n",
       " 1587851767: 'Лавровы и Ира [1587851767]',\n",
       " 1961630415: 'Лавровы и Даша+Миша [1961630415]',\n",
       " 1804291870: 'Лавровы и Ваня [1804291870]',\n",
       " 1930905784: 'Лавровы и Фецы [1930905784]',\n",
       " 1840266080: 'Лавровы и Витечка [1840266080]',\n",
       " 679235923: 'Лавровы и Мокины [679235923]',\n",
       " 4071028876: 'Лавровы и Марк [4071028876]',\n",
       " 1875091506: 'Пахлава (Лавровы и Паша) [1875091506]',\n",
       " 1836805018: 'Лавровы и Паша А [1836805018]',\n",
       " 1686922676: 'Лавровы и Некрасовы Family [1686922676]',\n",
       " 2097173840: 'Лавровы и Лоскутовы [2097173840]',\n",
       " 1965635608: 'Лавровы и Нанумян [1965635608]',\n",
       " 4107628458: 'Лавровы и Лоскутовы [4107628458]',\n",
       " 4015960096: 'Лавровы и Марина [4015960096]',\n",
       " 1885797480: 'Лавровы и Лысенко [1885797480]',\n",
       " 1755627286: 'Лавровы и Жаркевич(и?) :) [1755627286]',\n",
       " 4020968690: 'Лавровы и Володя [4020968690]',\n",
       " 1859655749: 'Лавровы и Косенковы [1859655749]',\n",
       " 1831093175: 'Лавровы и Костя и Женя 🧀 [1831093175]',\n",
       " 944163375: 'Лавровы и Ваня [944163375]',\n",
       " 745069431: 'Лавровы и Радзиминович [745069431]',\n",
       " 974290996: 'Лавровы и Косенковы [974290996]',\n",
       " 857085143: 'Лавровы и Гончаровы [857085143]',\n",
       " 957638008: 'Лавровы и Даша+Миша [957638008]',\n",
       " 857172394: 'Лавровы и Нанумян [857172394]',\n",
       " 1923653478: 'Лавровы и Гончаровы [1923653478]',\n",
       " 1934591120: 'Лавровы и Радзиминович [1934591120]',\n",
       " 1625986826: 'Лавровы и Nicola [1625986826]',\n",
       " 991086685: 'Лавровы и Лысенко [991086685]',\n",
       " 893912391: 'Лавровы и Витечка [893912391]',\n",
       " 864200146: 'Лавровы и Фецы [864200146]',\n",
       " 909271735: 'Лавровы и Леша [909271735]',\n",
       " 653367645: 'Лавровы и Кудринские-Орловы [653367645]',\n",
       " 703465335: 'Лавровы и Федя [703465335]',\n",
       " 756438883: 'Лавровы и Некрасовы Family [756438883]',\n",
       " 883160246: 'Лавровы и Жаркевич(и?) :) [883160246]',\n",
       " 907113185: 'Лавровы и Nicola [907113185]',\n",
       " 934527703: 'Лавровы и Миша [934527703]',\n",
       " 893942447: 'Лавровы и Кремер [893942447]',\n",
       " 832525604: 'Лавровы и Паша [832525604]',\n",
       " 956112028: 'Лавровы и Козловы [956112028]'}"
      ]
     },
     "execution_count": 23,
     "metadata": {},
     "output_type": "execute_result"
    }
   ],
   "source": [
    "chats_1"
   ]
  },
  {
   "cell_type": "code",
   "execution_count": 24,
   "metadata": {},
   "outputs": [
    {
     "data": {
      "text/plain": [
       "59"
      ]
     },
     "execution_count": 24,
     "metadata": {},
     "output_type": "execute_result"
    }
   ],
   "source": [
    "len(chats_1)"
   ]
  },
  {
   "cell_type": "code",
   "execution_count": 25,
   "metadata": {},
   "outputs": [
    {
     "ename": "ValueError",
     "evalue": "Multiple candidates found for Лавровы и Кремер: {1585809155: 'Лавровы и Кремер [1585809155]', 893942447: 'Лавровы и Кремер [893942447]'}",
     "output_type": "error",
     "traceback": [
      "\u001B[0;31m---------------------------------------------------------------------------\u001B[0m",
      "\u001B[0;31mValueError\u001B[0m                                Traceback (most recent call last)",
      "Cell \u001B[0;32mIn[25], line 11\u001B[0m\n\u001B[1;32m      8\u001B[0m     \u001B[38;5;28;01melse\u001B[39;00m:\n\u001B[1;32m      9\u001B[0m         \u001B[38;5;28;01mraise\u001B[39;00m \u001B[38;5;167;01mValueError\u001B[39;00m(\u001B[38;5;124mf\u001B[39m\u001B[38;5;124m\"\u001B[39m\u001B[38;5;124mMultiple candidates found for \u001B[39m\u001B[38;5;132;01m{\u001B[39;00mkey\u001B[38;5;132;01m}\u001B[39;00m\u001B[38;5;124m: \u001B[39m\u001B[38;5;132;01m{\u001B[39;00mcandidates\u001B[38;5;132;01m}\u001B[39;00m\u001B[38;5;124m\"\u001B[39m)\n\u001B[0;32m---> 11\u001B[0m \u001B[43mresolve_chat\u001B[49m\u001B[43m(\u001B[49m\u001B[38;5;124;43m\"\u001B[39;49m\u001B[38;5;124;43mЛавровы и Кремер\u001B[39;49m\u001B[38;5;124;43m\"\u001B[39;49m\u001B[43m)\u001B[49m\n",
      "Cell \u001B[0;32mIn[25], line 9\u001B[0m, in \u001B[0;36mresolve_chat\u001B[0;34m(key)\u001B[0m\n\u001B[1;32m      7\u001B[0m     \u001B[38;5;28;01mreturn\u001B[39;00m \u001B[38;5;28mlist\u001B[39m(candidates\u001B[38;5;241m.\u001B[39mkeys())[\u001B[38;5;241m0\u001B[39m]\n\u001B[1;32m      8\u001B[0m \u001B[38;5;28;01melse\u001B[39;00m:\n\u001B[0;32m----> 9\u001B[0m     \u001B[38;5;28;01mraise\u001B[39;00m \u001B[38;5;167;01mValueError\u001B[39;00m(\u001B[38;5;124mf\u001B[39m\u001B[38;5;124m\"\u001B[39m\u001B[38;5;124mMultiple candidates found for \u001B[39m\u001B[38;5;132;01m{\u001B[39;00mkey\u001B[38;5;132;01m}\u001B[39;00m\u001B[38;5;124m: \u001B[39m\u001B[38;5;132;01m{\u001B[39;00mcandidates\u001B[38;5;132;01m}\u001B[39;00m\u001B[38;5;124m\"\u001B[39m)\n",
      "\u001B[0;31mValueError\u001B[0m: Multiple candidates found for Лавровы и Кремер: {1585809155: 'Лавровы и Кремер [1585809155]', 893942447: 'Лавровы и Кремер [893942447]'}"
     ]
    }
   ],
   "source": [
    "def resolve_chat(key):\n",
    "    if key in chat_names:\n",
    "        return key\n",
    "\n",
    "    candidates = find_chat(key)\n",
    "    if len(candidates) == 1:\n",
    "        return list(candidates.keys())[0]\n",
    "    else:\n",
    "        raise ValueError(f\"Multiple candidates found for {key}: {candidates}\")\n",
    "\n",
    "\n",
    "resolve_chat(\"Лавровы и Кремер\")"
   ]
  },
  {
   "cell_type": "code",
   "execution_count": 37,
   "metadata": {},
   "outputs": [],
   "source": [
    "def get_chat_messages(chat_key):\n",
    "    chat_id = resolve_chat(chat_key)\n",
    "    chat_data = chats[chat_id]\n",
    "    if chat_data.entity_category == \"channel\":\n",
    "        query = {\"peer_id\": {\"_\": \"PeerChannel\", \"channel_id\": chat_id}}\n",
    "    elif chat_data.entity_category == \"private chat\":\n",
    "        query = {\"peer_id\": {\"_\": \"PeerUser\", \"user_id\": chat_id}}\n",
    "    elif chat_data.entity_category == \"group\":\n",
    "        query = {\"peer_id\": {\"_\": \"PeerChat\", \"chat_id\": chat_id}}\n",
    "    elif chat_data.entity_category == \"bot\":\n",
    "        query = {\"peer_id\": {\"_\": \"PeerBot\", \"user_id\": chat_id}}\n",
    "    else:\n",
    "        raise ValueError(f\"Unknown chat type: {chat_data.entity_category}\")\n",
    "    messages = message_collection.find(query)\n",
    "    messages = list(messages)\n",
    "    return messages\n",
    "\n",
    "\n",
    "# get_chat_messages(\"Лавровы и Кремер\")\n",
    "# m = get_chat_messages(893942447)\n",
    "# m = get_chat_messages(1585809155)\n",
    "\n",
    "m = get_chat_messages(1125045120)"
   ]
  },
  {
   "cell_type": "code",
   "execution_count": 40,
   "metadata": {},
   "outputs": [
    {
     "data": {
      "text/plain": [
       "'Миша Овощников, EF @mishaovo [1125045120]'"
      ]
     },
     "execution_count": 40,
     "metadata": {},
     "output_type": "execute_result"
    }
   ],
   "source": [
    "chat_names[1125045120]"
   ]
  },
  {
   "cell_type": "code",
   "execution_count": 28,
   "metadata": {},
   "outputs": [
    {
     "data": {
      "text/plain": [
       "{'_': 'PeerUser', 'user_id': 322324998}"
      ]
     },
     "execution_count": 28,
     "metadata": {},
     "output_type": "execute_result"
    }
   ],
   "source": [
    "item['peer_id']\n",
    "# {'_': 'PeerUser', 'user_id': 322324998}"
   ]
  },
  {
   "cell_type": "code",
   "execution_count": 41,
   "metadata": {},
   "outputs": [
    {
     "ename": "NameError",
     "evalue": "name 'messages' is not defined",
     "output_type": "error",
     "traceback": [
      "\u001B[0;31m---------------------------------------------------------------------------\u001B[0m",
      "\u001B[0;31mNameError\u001B[0m                                 Traceback (most recent call last)",
      "Cell \u001B[0;32mIn[41], line 1\u001B[0m\n\u001B[0;32m----> 1\u001B[0m \u001B[38;5;28mlen\u001B[39m(\u001B[43mmessages\u001B[49m)\n",
      "\u001B[0;31mNameError\u001B[0m: name 'messages' is not defined"
     ]
    }
   ],
   "source": []
  },
  {
   "cell_type": "code",
   "execution_count": 42,
   "metadata": {},
   "outputs": [
    {
     "data": {
      "text/plain": [
       "31994"
      ]
     },
     "execution_count": 42,
     "metadata": {},
     "output_type": "execute_result"
    }
   ],
   "source": [
    "len(data)"
   ]
  },
  {
   "cell_type": "code",
   "execution_count": 46,
   "metadata": {},
   "outputs": [
    {
     "data": {
      "text/plain": [
       "{'EF Once-a-week Challenges': [2332193270, 4533577824],\n",
       " 'Интересные мысли (без репостов)': [2066938266, 4229787801],\n",
       " 'EF: Org': [1980795916, 929082602],\n",
       " 'Интенсив Йога Калкан 2024': [2241576363, 4536005024],\n",
       " 'Лавровы и Миша': [1499145031, 934527703],\n",
       " '11в 2010 146': [1189980400, 401890013],\n",
       " 'Лавровы и Кудринские-Орловы': [1932431153, 653367645],\n",
       " 'EF Requests Log': [2386962715, 4568801340],\n",
       " 'Zurich: Home and something': [1634429133, 728811619],\n",
       " 'Тренируемся стабильно': [2369719746, 4733206458],\n",
       " 'Про еду. Petr & Ульяна, Anna': [2234377605, 4245758614],\n",
       " 'CM: Feed & Reposts': [1845253255, 857049534],\n",
       " 'Feed': [1697994507, 640039871],\n",
       " 'Лавровы и Кремер': [1585809155, 893942447],\n",
       " 'Лавровы и Федя': [1668306031, 703465335],\n",
       " 'Shopping': [2058558285, 4126251437],\n",
       " 'Petr and Vitaly - Coworking': [2144718775, 4106610820],\n",
       " 'Проект 146: Менторство, Коучинг, База знаний': [2228089930, 4231574221],\n",
       " 'Секретный чат Вотякова': [1882520859, 828905891],\n",
       " 'Coworking - Petr & Костя': [2033450192, 4100711275],\n",
       " '146: Logs. Архив добавления в группу': [2458522386, 4512008883],\n",
       " 'Calmmage: BlogOrc': [1944275263, 699892986],\n",
       " 'EF Random Coffee': [2056846505, 4244108830],\n",
       " 'EF Gaming - Factorio: Space Age': [2254383809, 4596830903],\n",
       " 'Coworking Petr & Айнур': [2436811399, 4596551095],\n",
       " 'Люди и контакты, Random people contacts': [2148251389, 4286921024],\n",
       " 'Эксперимент: Kinder-хакинг': [2190901224, 4568189568],\n",
       " \"Petr's Swiss Parties\": [1830389436, 934864525],\n",
       " 'Лавровы и Леша': [1988014015, 909271735],\n",
       " 'Проект 146: Аналитика': [2434760189, 4567540732],\n",
       " '[Проект 146] Работа с Активистами': [2236207820, 4283931999],\n",
       " '146: Thinking about SMM': [2147819462, 4206036015],\n",
       " '146 - Рома, Ваня, Петя': [2406977551, 4551860697],\n",
       " 'Ai Feedback': [1819413234, 863996514],\n",
       " 'Проект: Бот клуба 146': [2444220014, 4521007852],\n",
       " 'Проект 146: Хакатон': [2424387113, 4539576102],\n",
       " 'Лавровы и Козловы': [1865008520, 956112028],\n",
       " 'CM: Sport & Food Order': [1931764713, 908708868],\n",
       " 'Проект 146 - Петя Саша': [2382656786, 4514314133],\n",
       " 'How to procrastinate': [2391593986, 4509598206],\n",
       " 'Холодный душ июль | Вотяков закрытая подписка челлендж': [2147780226,\n",
       "  4214859158],\n",
       " 'Проект: Книжный клуб 146': [2355662378, 4544823837],\n",
       " 'CM: Job Search. Resume advice, referrals': [1945788038, 933343396],\n",
       " 'Petr and Lev - Coworking': [2146701549, 4162960065],\n",
       " 'Hobby: Networking': [2180451018, 4232111455],\n",
       " 'Опросы в EF': [2040747423, 4119902278],\n",
       " 'Менторы 146': [2150067500, 4161630110],\n",
       " 'Менторство 146: Intro Диана and Anna': [2470156087, 4500807334],\n",
       " 'Побег в Цюрихе': [2191379948, 4018864824],\n",
       " '146: Мобильное приложение, сайт и чат-бот клуба': [2159240849, 4253067681],\n",
       " 'Лавровы и Даша+Миша': [1961630415, 957638008],\n",
       " 'EF onboarding: Володя Чепчик': [2230843634, 4280535111],\n",
       " '146 онлайн юбилей: ЖБЧ': [2233256913, 4262749306],\n",
       " 'Математические игры на юбилей': [2153836720, 4514121351],\n",
       " 'Эксперимент: Учим немецкий': [2203066343, 4502956391],\n",
       " 'Лавровы и Ваня': [1804291870, 944163375],\n",
       " 'Лавровы и Фецы': [1930905784, 864200146],\n",
       " 'Лавровы и Витечка': [1840266080, 893912391],\n",
       " '🇷🇺🇨🇭🇹🇷 Nastya, Ali & Anna, Petr': [1948331588, 856214009],\n",
       " 'Проект 146: Юбилейный Выпуск ШОР': [2180651339, 4141279735],\n",
       " 'Проект 146: Random Coffee, Speed dating, Выпускник-выпускник или выпускник-школьник': [2217876885,\n",
       "  4267834040],\n",
       " 'Coworking - Petr, Alex and Илья': [2210876419, 4213838325],\n",
       " 'Коммутативная группа': [1764458651, 749785745],\n",
       " '📋Task Management': [1566644583, 808721326],\n",
       " 'Лыжи к нам поближе': [1641809449, 870471343],\n",
       " 'Petr and Robert - Coworking,поиск ассистентов': [2117972819, 4247866314],\n",
       " 'Интенсив Йога Каш 2022': [1796726856, 703525119],\n",
       " '[Archive] Petr and Олег - GPT apps': [4148038437, 2160110045],\n",
       " 'Intro - Petr & Володя, Марк': [2178460384, 4201519158],\n",
       " '[Coworking] Petr & Марк - Telegram bot': [2210756184, 4249129892],\n",
       " 'EF Coworking - LLM/LangChain - Petr and Георгий': [2047174275, 4242376841],\n",
       " 'Проект 146: Сайт, Группы выпускников, Встречи выпускников': [2152101053,\n",
       "  4117631087],\n",
       " '[Coworking] Petr & Марк - App Development': [2090179360, 4261989698],\n",
       " 'Лавровы и Некрасовы Family': [1686922676, 756438883],\n",
       " 'Petr & Mark, Danil': [2011914683, 4142682237],\n",
       " 'Petr & Alexander Coworking': [1898817253, 4069104780],\n",
       " 'Организация большой свадьбы': [1536336873, 568585997],\n",
       " 'Координация по продуктам и питанию': [4182465441, 1998666615],\n",
       " 'Лавровы и Лоскутовы': [2097173840, 4107628458],\n",
       " 'Лавровы и Нанумян': [1965635608, 857172394],\n",
       " 'OpenAI agentic research grant': [2083407352, 4043718483],\n",
       " 'Помощь Маме': [2006282287, 957360357],\n",
       " 'Новый год 2024!': [2085846952, 4041981975],\n",
       " 'NY World - Планируем Новый Год - International?': [1954533659, 4057925401],\n",
       " 'CM: Celebrating Toxicity': [1941540617, 814962909],\n",
       " 'ДР Пети и Феди, Дубай, 18-19 Фев 2023': [1861245666, 848701882],\n",
       " 'CM: Books & Reading': [1797565501, 4066738781],\n",
       " 'AA: Feed / Digest для Пети': [1893462556, 4061045174],\n",
       " 'AA: Weekly Review, TeamLeading': [2079617024, 4037681023],\n",
       " 'Баня мытищи': [1732774098, 442370668],\n",
       " 'NY CH - Планируем Новый Год - Швейцария?': [1725963700, 4089081698],\n",
       " 'AA: Помощь с Notion': [1616645779, 4029391732],\n",
       " 'Лавровы и Лысенко': [1885797480, 991086685],\n",
       " 'NY Ru - Планируем Новый Год - Россия?': [1892458090, 4084830959],\n",
       " 'Лавровы и Жаркевич(и?) :)': [1755627286, 883160246],\n",
       " '0930 Путешествие в цюрих': [1945332599, 4037180847],\n",
       " 'Engineering Friends': [1561135632, 813938358],\n",
       " 'Орг чат - Йога интенсив Октябрь 2023, Каш, Турция': [1898848382, 799105851],\n",
       " 'SBB Проверка Билетов': [1940412952, 939704314],\n",
       " 'Лавровы и Косенковы': [1859655749, 974290996],\n",
       " 'В Гости в Лозанну': [1985065607, 867714343],\n",
       " 'CM: Org': [1936128596, 917075836],\n",
       " 'CM: Душним Петю': [1916972225, 898548490],\n",
       " 'AA: Гайд про VR - 28 Jul 2023': [1836490809, 906885854],\n",
       " 'AA: Гайд по организации сна - 28 Jul 2023': [1965857766, 967247776],\n",
       " 'SwissСовет': [1915397548, 978421049],\n",
       " 'CM: AI Tools': [1949758825, 945982620],\n",
       " 'CM: GPT Dev': [1862703808, 957726302],\n",
       " 'CM: Dev': [1936683362, 938476146],\n",
       " 'Лавровы и Радзиминович': [745069431, 1934591120],\n",
       " 'Лавровы и Гончаровы': [857085143, 1923653478],\n",
       " 'Assistance 2022': [651002527, 1899388946],\n",
       " 'Леша Кудринский Ассистентство Петя Лавров': [652491350, 1632161104],\n",
       " '[Archive] Assistance 2022': [752845302, 1603486869],\n",
       " 'Лавровы и Nicola': [1625986826, 907113185],\n",
       " 'Food Order': [1225051568, 547249017],\n",
       " 'Мск 2021/12': [1619368568, 487200952],\n",
       " 'GPT Usecases': [1858457670, 875068530],\n",
       " 'Летняя йога ☀️🦭': [1902714416, 805160474],\n",
       " 'Russia НГ Tussa': [1837932010, 689308141],\n",
       " 'Организация ДР Пети и Феди 2023': [1547936972, 532409513],\n",
       " '[Fusion Lab] Gpt Integration ideas': [1987861372, 826702002],\n",
       " 'Advanced Python Course Mar 2023': [1931446785, 956465902],\n",
       " 'Intro Рустам Илья - Neuro': [1891821699, 799705393],\n",
       " 'Готовимся к НГ! 🎄🎉': [1803715523, 687422820],\n",
       " 'Я соскучился (Гоша, Аня и Петя)': [1732151368, 645648578],\n",
       " 'Лыжные Делишки': [1731824494, 718243791],\n",
       " 'Петя/Сима': [1881283525, 809239226],\n",
       " 'Голосовые записи': [1809131792, 840413790],\n",
       " 'Inbox': [1526387487, 759694126],\n",
       " 'The Club Forum Organization': [1786917042, 562333691],\n",
       " 'Отпуск 2022 планирование': [1696864718, 606488441],\n",
       " 'ДР Масальцева': [441522686, 380095097]}"
      ]
     },
     "execution_count": 46,
     "metadata": {},
     "output_type": "execute_result"
    }
   ],
   "source": []
  },
  {
   "cell_type": "code",
   "execution_count": 49,
   "metadata": {},
   "outputs": [
    {
     "name": "stdout",
     "output_type": "stream",
     "text": [
      "EF: Org [1980795916, 929082602]\n",
      "1980795916 0\n",
      "929082602 0\n",
      "Лавровы и Миша [1499145031, 934527703]\n",
      "1499145031 0\n",
      "934527703 0\n",
      "11в 2010 146 [1189980400, 401890013]\n",
      "1189980400 0\n",
      "401890013 0\n",
      "Лавровы и Кудринские-Орловы [1932431153, 653367645]\n",
      "1932431153 0\n",
      "653367645 0\n",
      "Zurich: Home and something [1634429133, 728811619]\n",
      "1634429133 0\n",
      "728811619 0\n",
      "CM: Feed & Reposts [1845253255, 857049534]\n",
      "1845253255 0\n",
      "857049534 0\n",
      "Feed [1697994507, 640039871]\n",
      "1697994507 0\n",
      "640039871 0\n",
      "Лавровы и Кремер [1585809155, 893942447]\n",
      "1585809155 0\n",
      "893942447 0\n",
      "Лавровы и Федя [1668306031, 703465335]\n",
      "1668306031 0\n",
      "703465335 0\n",
      "Секретный чат Вотякова [1882520859, 828905891]\n",
      "1882520859 0\n",
      "828905891 0\n",
      "Calmmage: BlogOrc [1944275263, 699892986]\n",
      "1944275263 0\n",
      "699892986 0\n",
      "Petr's Swiss Parties [1830389436, 934864525]\n",
      "1830389436 0\n",
      "934864525 0\n",
      "Лавровы и Леша [1988014015, 909271735]\n",
      "1988014015 0\n",
      "909271735 0\n",
      "Ai Feedback [1819413234, 863996514]\n",
      "1819413234 0\n",
      "863996514 0\n",
      "Лавровы и Козловы [1865008520, 956112028]\n",
      "1865008520 0\n",
      "956112028 0\n",
      "CM: Sport & Food Order [1931764713, 908708868]\n",
      "1931764713 0\n",
      "908708868 0\n",
      "CM: Job Search. Resume advice, referrals [1945788038, 933343396]\n",
      "1945788038 0\n",
      "933343396 0\n",
      "Лавровы и Даша+Миша [1961630415, 957638008]\n",
      "1961630415 0\n",
      "957638008 0\n",
      "Лавровы и Ваня [1804291870, 944163375]\n",
      "1804291870 0\n",
      "944163375 0\n",
      "Лавровы и Фецы [1930905784, 864200146]\n",
      "1930905784 0\n",
      "864200146 0\n",
      "Лавровы и Витечка [1840266080, 893912391]\n",
      "1840266080 0\n",
      "893912391 0\n",
      "🇷🇺🇨🇭🇹🇷 Nastya, Ali & Anna, Petr [1948331588, 856214009]\n",
      "1948331588 0\n",
      "856214009 0\n",
      "Коммутативная группа [1764458651, 749785745]\n",
      "1764458651 0\n",
      "749785745 0\n",
      "📋Task Management [1566644583, 808721326]\n",
      "1566644583 0\n",
      "808721326 0\n",
      "Лыжи к нам поближе [1641809449, 870471343]\n",
      "1641809449 0\n",
      "870471343 0\n",
      "Интенсив Йога Каш 2022 [1796726856, 703525119]\n",
      "1796726856 0\n",
      "703525119 0\n",
      "Лавровы и Некрасовы Family [1686922676, 756438883]\n",
      "1686922676 0\n",
      "756438883 0\n",
      "Организация большой свадьбы [1536336873, 568585997]\n",
      "1536336873 0\n",
      "568585997 0\n",
      "Лавровы и Нанумян [1965635608, 857172394]\n",
      "1965635608 0\n",
      "857172394 0\n",
      "OpenAI agentic research grant [2083407352, 4043718483]\n",
      "2083407352 0\n",
      "4043718483 0\n",
      "Помощь Маме [2006282287, 957360357]\n",
      "2006282287 0\n",
      "957360357 0\n",
      "Новый год 2024! [2085846952, 4041981975]\n",
      "2085846952 0\n",
      "4041981975 0\n",
      "NY World - Планируем Новый Год - International? [1954533659, 4057925401]\n",
      "1954533659 0\n",
      "4057925401 0\n",
      "CM: Celebrating Toxicity [1941540617, 814962909]\n",
      "1941540617 0\n",
      "814962909 0\n",
      "ДР Пети и Феди, Дубай, 18-19 Фев 2023 [1861245666, 848701882]\n",
      "1861245666 0\n",
      "848701882 0\n",
      "CM: Books & Reading [1797565501, 4066738781]\n",
      "1797565501 0\n",
      "4066738781 0\n",
      "AA: Feed / Digest для Пети [1893462556, 4061045174]\n",
      "1893462556 0\n",
      "4061045174 0\n",
      "AA: Weekly Review, TeamLeading [2079617024, 4037681023]\n",
      "2079617024 0\n",
      "4037681023 0\n",
      "Баня мытищи [1732774098, 442370668]\n",
      "1732774098 0\n",
      "442370668 0\n",
      "NY CH - Планируем Новый Год - Швейцария? [1725963700, 4089081698]\n",
      "1725963700 0\n",
      "4089081698 0\n",
      "AA: Помощь с Notion [1616645779, 4029391732]\n",
      "1616645779 0\n",
      "4029391732 0\n",
      "Лавровы и Лысенко [1885797480, 991086685]\n",
      "1885797480 0\n",
      "991086685 0\n",
      "NY Ru - Планируем Новый Год - Россия? [1892458090, 4084830959]\n",
      "1892458090 0\n",
      "4084830959 0\n",
      "Лавровы и Жаркевич(и?) :) [1755627286, 883160246]\n",
      "1755627286 0\n",
      "883160246 0\n",
      "0930 Путешествие в цюрих [1945332599, 4037180847]\n",
      "1945332599 0\n",
      "4037180847 0\n",
      "Engineering Friends [1561135632, 813938358]\n",
      "1561135632 0\n",
      "813938358 0\n",
      "Орг чат - Йога интенсив Октябрь 2023, Каш, Турция [1898848382, 799105851]\n",
      "1898848382 0\n",
      "799105851 0\n",
      "SBB Проверка Билетов [1940412952, 939704314]\n",
      "1940412952 0\n",
      "939704314 0\n",
      "Лавровы и Косенковы [1859655749, 974290996]\n",
      "1859655749 0\n",
      "974290996 0\n",
      "В Гости в Лозанну [1985065607, 867714343]\n",
      "1985065607 0\n",
      "867714343 0\n",
      "CM: Org [1936128596, 917075836]\n",
      "1936128596 0\n",
      "917075836 0\n",
      "CM: Душним Петю [1916972225, 898548490]\n",
      "1916972225 0\n",
      "898548490 0\n",
      "AA: Гайд про VR - 28 Jul 2023 [1836490809, 906885854]\n",
      "1836490809 0\n",
      "906885854 0\n",
      "AA: Гайд по организации сна - 28 Jul 2023 [1965857766, 967247776]\n",
      "1965857766 0\n",
      "967247776 0\n",
      "SwissСовет [1915397548, 978421049]\n",
      "1915397548 0\n",
      "978421049 0\n",
      "CM: AI Tools [1949758825, 945982620]\n",
      "1949758825 0\n",
      "945982620 0\n",
      "CM: GPT Dev [1862703808, 957726302]\n",
      "1862703808 0\n",
      "957726302 0\n",
      "CM: Dev [1936683362, 938476146]\n",
      "1936683362 0\n",
      "938476146 0\n",
      "Лавровы и Радзиминович [745069431, 1934591120]\n",
      "745069431 0\n",
      "1934591120 0\n",
      "Лавровы и Гончаровы [857085143, 1923653478]\n",
      "857085143 0\n",
      "1923653478 0\n",
      "Assistance 2022 [651002527, 1899388946]\n",
      "651002527 0\n",
      "1899388946 0\n",
      "Леша Кудринский Ассистентство Петя Лавров [652491350, 1632161104]\n",
      "652491350 0\n",
      "1632161104 0\n",
      "[Archive] Assistance 2022 [752845302, 1603486869]\n",
      "752845302 0\n",
      "1603486869 0\n",
      "Лавровы и Nicola [1625986826, 907113185]\n",
      "1625986826 0\n",
      "907113185 0\n",
      "Food Order [1225051568, 547249017]\n",
      "1225051568 0\n",
      "547249017 0\n",
      "Мск 2021/12 [1619368568, 487200952]\n",
      "1619368568 0\n",
      "487200952 0\n",
      "GPT Usecases [1858457670, 875068530]\n",
      "1858457670 0\n",
      "875068530 0\n",
      "Летняя йога ☀️🦭 [1902714416, 805160474]\n",
      "1902714416 0\n",
      "805160474 0\n",
      "Russia НГ Tussa [1837932010, 689308141]\n",
      "1837932010 0\n",
      "689308141 0\n",
      "Организация ДР Пети и Феди 2023 [1547936972, 532409513]\n",
      "1547936972 0\n",
      "532409513 0\n",
      "[Fusion Lab] Gpt Integration ideas [1987861372, 826702002]\n",
      "1987861372 0\n",
      "826702002 0\n",
      "Advanced Python Course Mar 2023 [1931446785, 956465902]\n",
      "1931446785 0\n",
      "956465902 0\n",
      "Intro Рустам Илья - Neuro [1891821699, 799705393]\n",
      "1891821699 0\n",
      "799705393 0\n",
      "Готовимся к НГ! 🎄🎉 [1803715523, 687422820]\n",
      "1803715523 0\n",
      "687422820 0\n",
      "Я соскучился (Гоша, Аня и Петя) [1732151368, 645648578]\n",
      "1732151368 0\n",
      "645648578 0\n",
      "Лыжные Делишки [1731824494, 718243791]\n",
      "1731824494 0\n",
      "718243791 0\n",
      "Петя/Сима [1881283525, 809239226]\n",
      "1881283525 0\n",
      "809239226 0\n",
      "Голосовые записи [1809131792, 840413790]\n",
      "1809131792 0\n",
      "840413790 0\n",
      "Inbox [1526387487, 759694126]\n",
      "1526387487 0\n",
      "759694126 0\n",
      "The Club Forum Organization [1786917042, 562333691]\n",
      "1786917042 0\n",
      "562333691 0\n",
      "Отпуск 2022 планирование [1696864718, 606488441]\n",
      "1696864718 0\n",
      "606488441 0\n",
      "ДР Масальцева [441522686, 380095097]\n",
      "441522686 0\n",
      "380095097 0\n"
     ]
    }
   ],
   "source": [
    "# let's find duplicate chats\n",
    "\n",
    "from collections import defaultdict\n",
    "\n",
    "\n",
    "def find_duplicate_chats(chats):\n",
    "    title_to_ids = defaultdict(list)\n",
    "    for chat_id, chat_data in chats.items():\n",
    "        if hasattr(chat_data.entity, 'title'):\n",
    "            title_to_ids[chat_data.entity.title].append(chat_id)\n",
    "\n",
    "    duplicates = {title: ids for title, ids in title_to_ids.items() if len(ids) > 1}\n",
    "    return duplicates\n",
    "\n",
    "\n",
    "duplicate_chats = find_duplicate_chats(chats)\n",
    "duplicate_chats\n",
    "\n",
    "for title, ids in duplicate_chats.items():\n",
    "    m1 = get_chat_messages(ids[0])\n",
    "    m2 = get_chat_messages(ids[1])\n",
    "    # make sure only one is not empty\n",
    "    if (len(m1) == 0) + (len(m2) == 0) != 1:\n",
    "        print(title, ids)\n",
    "        print(ids[0], len(m1))\n",
    "        print(ids[1], len(m2))\n",
    "\n",
    "c1 = chats[1980795916]  #\n",
    "c2 = chats[929082602]\n",
    "c1.entity -> Channel - this is the\n",
    "one\n",
    "we\n",
    "want\n",
    "c2.entity -> Chat"
   ]
  },
  {
   "cell_type": "code",
   "execution_count": 56,
   "metadata": {},
   "outputs": [
    {
     "data": {
      "text/plain": [
       "({'id': 1980795916,\n",
       "  'entity': {'_': 'Channel',\n",
       "   'id': 1980795916,\n",
       "   'title': 'EF: Org',\n",
       "   'photo': {'_': 'ChatPhoto',\n",
       "    'photo_id': 5228845816859452793,\n",
       "    'dc_id': 2,\n",
       "    'has_video': False,\n",
       "    'stripped_thumb': b'\\x01\\x08\\x08\\xb6\\t\\xf3H9\\xd9\\xdb\\x1d:QE\\x15\\xcbs\\xa2\\xc7'},\n",
       "   'date': datetime.datetime(2023, 8, 12, 7, 26),\n",
       "   'creator': False,\n",
       "   'left': False,\n",
       "   'broadcast': False,\n",
       "   'verified': False,\n",
       "   'megagroup': True,\n",
       "   'restricted': False,\n",
       "   'signatures': False,\n",
       "   'min': False,\n",
       "   'scam': False,\n",
       "   'has_link': False,\n",
       "   'has_geo': False,\n",
       "   'slowmode_enabled': False,\n",
       "   'call_active': False,\n",
       "   'call_not_empty': False,\n",
       "   'fake': False,\n",
       "   'gigagroup': False,\n",
       "   'noforwards': False,\n",
       "   'join_to_send': False,\n",
       "   'join_request': False,\n",
       "   'forum': False,\n",
       "   'stories_hidden': False,\n",
       "   'stories_hidden_min': False,\n",
       "   'stories_unavailable': True,\n",
       "   'signature_profiles': False,\n",
       "   'access_hash': -1119679246981665033,\n",
       "   'username': None,\n",
       "   'restriction_reason': [],\n",
       "   'admin_rights': None,\n",
       "   'banned_rights': None,\n",
       "   'default_banned_rights': {'_': 'ChatBannedRights',\n",
       "    'until_date': datetime.datetime(2038, 1, 19, 3, 14, 7),\n",
       "    'view_messages': False,\n",
       "    'send_messages': False,\n",
       "    'send_media': False,\n",
       "    'send_stickers': False,\n",
       "    'send_gifs': False,\n",
       "    'send_games': False,\n",
       "    'send_inline': False,\n",
       "    'embed_links': False,\n",
       "    'send_polls': False,\n",
       "    'change_info': False,\n",
       "    'invite_users': False,\n",
       "    'pin_messages': False,\n",
       "    'manage_topics': False,\n",
       "    'send_photos': False,\n",
       "    'send_videos': False,\n",
       "    'send_roundvideos': False,\n",
       "    'send_audios': False,\n",
       "    'send_voices': False,\n",
       "    'send_docs': False,\n",
       "    'send_plain': False},\n",
       "   'participants_count': 5,\n",
       "   'usernames': [],\n",
       "   'stories_max_id': None,\n",
       "   'color': None,\n",
       "   'profile_color': None,\n",
       "   'emoji_status': None,\n",
       "   'level': None,\n",
       "   'subscription_until_date': None},\n",
       "  'last_message_date': datetime.datetime(2024, 11, 10, 17, 51, 49),\n",
       "  'finished_downloading': False},\n",
       " {'id': 929082602,\n",
       "  'entity': {'_': 'Chat',\n",
       "   'id': 929082602,\n",
       "   'title': 'EF: Org',\n",
       "   'photo': {'_': 'ChatPhotoEmpty'},\n",
       "   'participants_count': 0,\n",
       "   'date': datetime.datetime(2023, 8, 3, 14, 51, 8),\n",
       "   'version': 2,\n",
       "   'creator': False,\n",
       "   'left': False,\n",
       "   'deactivated': True,\n",
       "   'call_active': False,\n",
       "   'call_not_empty': False,\n",
       "   'noforwards': False,\n",
       "   'migrated_to': {'_': 'InputChannel',\n",
       "    'channel_id': 1980795916,\n",
       "    'access_hash': -1119679246981665033},\n",
       "   'admin_rights': None,\n",
       "   'default_banned_rights': None},\n",
       "  'last_message_date': datetime.datetime(2023, 8, 12, 7, 26),\n",
       "  'finished_downloading': False})"
      ]
     },
     "execution_count": 56,
     "metadata": {},
     "output_type": "execute_result"
    }
   ],
   "source": [
    "c1.to_dict(), c2.to_dict()\n",
    "\n"
   ]
  },
  {
   "cell_type": "code",
   "execution_count": null,
   "metadata": {},
   "outputs": [],
   "source": [
    "def filter_redundant_chats(self, chats: List[ChatData]) -> dict[int, ChatData]:\n",
    "    \"\"\"\n",
    "    Filter out redundant chat entries, keeping Channel versions and handling migrated chats.\n",
    "    \n",
    "    Args:\n",
    "        chats: List of ChatData objects to filter\n",
    "        \n",
    "    Returns:\n",
    "        dict[int, ChatData]: Filtered dictionary of chat_id to ChatData\n",
    "    \"\"\"\n",
    "    # First pass: build migration mapping and collect all chats\n",
    "    migration_map = {}  # old_chat_id -> new_channel_id\n",
    "    chat_map = {}  # chat_id -> ChatData\n",
    "\n",
    "    for chat in chats:\n",
    "        chat_map[chat.id] = chat\n",
    "\n",
    "        # Check if this is a migrated chat\n",
    "        migrated_to = getattr(chat.entity, 'migrated_to', None)\n",
    "        if migrated_to and hasattr(migrated_to, 'channel_id'):\n",
    "            migration_map[chat.id] = migrated_to.channel_id\n",
    "\n",
    "    # Second pass: filter out migrated chats\n",
    "    filtered_chats = {}\n",
    "    for chat_id, chat in chat_map.items():\n",
    "        # Skip if this chat was migrated and we have the new channel\n",
    "        if chat_id in migration_map:\n",
    "            new_channel_id = migration_map[chat_id]\n",
    "            if new_channel_id in chat_map:\n",
    "                logger.debug(\n",
    "                    f\"Skipping migrated chat {chat_id} ('{chat.name}') \"\n",
    "                    f\"in favor of channel {new_channel_id}\"\n",
    "                )\n",
    "                continue\n",
    "\n",
    "        # Keep this chat\n",
    "        filtered_chats[chat_id] = chat\n",
    "\n",
    "    return filtered_chats"
   ]
  },
  {
   "cell_type": "code",
   "execution_count": 61,
   "metadata": {},
   "outputs": [
    {
     "data": {
      "text/plain": [
       "{2369719746: 4733206458,\n",
       " 2254383809: 4596830903,\n",
       " 2469684847: 4580075313,\n",
       " 2436811399: 4596551095,\n",
       " 2434760189: 4567540732,\n",
       " 2424387113: 4539576102,\n",
       " 2391593986: 4509598206,\n",
       " 2382656786: 4514314133,\n",
       " 2444220014: 4521007852,\n",
       " 2355662378: 4544823837,\n",
       " 2406977551: 4551860697,\n",
       " 2373457856: 4547775711,\n",
       " 2458522386: 4512008883,\n",
       " 2386962715: 4568801340,\n",
       " 2332193270: 4533577824,\n",
       " 2456716085: 4568387333,\n",
       " 2328538213: 4555336881,\n",
       " 2470156087: 4500807334,\n",
       " 2409045781: 4574959453,\n",
       " 2191379948: 4018864824,\n",
       " 2203066343: 4502956391,\n",
       " 2214532747: 4520774806,\n",
       " 2190901224: 4568189568,\n",
       " 2153836720: 4514121351,\n",
       " 2183446721: 4510781697,\n",
       " 2241576363: 4536005024,\n",
       " 2150067500: 4161630110,\n",
       " 2159240849: 4253067681,\n",
       " 2147819462: 4206036015,\n",
       " 2233256913: 4262749306,\n",
       " 2148251389: 4286921024,\n",
       " 2230843634: 4280535111,\n",
       " 2228089930: 4231574221,\n",
       " 2147780226: 4214859158,\n",
       " 2180651339: 4141279735,\n",
       " 2220977064: 4259202873,\n",
       " 2180451018: 4232111455,\n",
       " 2234377605: 4245758614,\n",
       " 2160110045: 4148038437,\n",
       " 2210876419: 4213838325,\n",
       " 2236207820: 4283931999,\n",
       " 2178460384: 4201519158,\n",
       " 2210756184: 4249129892,\n",
       " 2152101053: 4117631087,\n",
       " 2217876885: 4267834040,\n",
       " 2225560544: 4285323792,\n",
       " 2090179360: 4261989698,\n",
       " 2133558009: 4220042575,\n",
       " 2117972819: 4247866314,\n",
       " 2017993592: 4276890476,\n",
       " 2113860306: 4112191480,\n",
       " 2066938266: 4229787801,\n",
       " 2047174275: 4242376841,\n",
       " 2058168658: 4245239542,\n",
       " 2056846505: 4244108830,\n",
       " 2040747423: 4119902278,\n",
       " 2083248468: 4120251230,\n",
       " 2033450192: 4100711275,\n",
       " 1898817253: 4069104780,\n",
       " 2144718775: 4106610820,\n",
       " 2146701549: 4162960065,\n",
       " 2115304434: 4034312731,\n",
       " 2011914683: 4142682237,\n",
       " 2058558285: 4126251437,\n",
       " 1998666615: 4182465441,\n",
       " 2013444515: 4199016706,\n",
       " 2097173840: 4107628458,\n",
       " 2083407352: 4043718483,\n",
       " 2085846952: 4041981975,\n",
       " 1573364327: 4009975433,\n",
       " 1944275263: 699892986,\n",
       " 2079617024: 4037681023,\n",
       " 2006282287: 957360357,\n",
       " 1833895854: 4047029843,\n",
       " 2034166005: 4050559646,\n",
       " 1725963700: 4089081698,\n",
       " 1954533659: 4057925401,\n",
       " 1892458090: 4084830959,\n",
       " 1893462556: 4061045174,\n",
       " 1917403481: 4091330664,\n",
       " 1945332599: 4037180847,\n",
       " 1764458651: 749785745,\n",
       " 1797565501: 4066738781,\n",
       " 1616645779: 4029391732,\n",
       " 1940412952: 939704314,\n",
       " 1945788038: 933343396,\n",
       " 1980795916: 929082602,\n",
       " 1964441991: 856642322,\n",
       " 1630255855: 990887571,\n",
       " 1836490809: 906885854,\n",
       " 1965857766: 967247776,\n",
       " 1936128596: 917075836,\n",
       " 1838785717: 973307620,\n",
       " 1970659426: 880684391,\n",
       " 1830389436: 934864525,\n",
       " 1907528478: 842866554,\n",
       " 1804291870: 944163375,\n",
       " 1934591120: 745069431,\n",
       " 1859655749: 974290996,\n",
       " 1923653478: 857085143,\n",
       " 1961630415: 957638008,\n",
       " 1965635608: 857172394,\n",
       " 1985065607: 867714343,\n",
       " 1899388946: 651002527,\n",
       " 1632161104: 652491350,\n",
       " 1603486869: 752845302,\n",
       " 1915397548: 978421049,\n",
       " 1948331588: 856214009,\n",
       " 1931764713: 908708868,\n",
       " 1949758825: 945982620,\n",
       " 1941540617: 814962909,\n",
       " 1845253255: 857049534,\n",
       " 1936683362: 938476146,\n",
       " 1987512543: 686434646,\n",
       " 1917804487: 922054207,\n",
       " 1909907510: 869177800,\n",
       " 1916972225: 898548490,\n",
       " 1989519236: 869103189,\n",
       " 1862703808: 957726302,\n",
       " 1962376326: 959701405,\n",
       " 1885797480: 991086685,\n",
       " 1840266080: 893912391,\n",
       " 1587851767: 936906393,\n",
       " 1930905784: 864200146,\n",
       " 1988014015: 909271735,\n",
       " 1688225441: 842213978,\n",
       " 1932431153: 653367645,\n",
       " 1668306031: 703465335,\n",
       " 1686922676: 756438883,\n",
       " 1755627286: 883160246,\n",
       " 1625986826: 907113185,\n",
       " 1499145031: 934527703,\n",
       " 1585809155: 893942447,\n",
       " 1836805018: 832525604,\n",
       " 1603401429: 740317843,\n",
       " 1884941844: 853080652,\n",
       " 1898848382: 799105851,\n",
       " 1561135632: 813938358,\n",
       " 1865008520: 956112028,\n",
       " 1776872918: 989764703,\n",
       " 1902714416: 805160474,\n",
       " 1935954536: 927338858,\n",
       " 1856826958: 453526874,\n",
       " 1774768679: 973057661,\n",
       " 1931446785: 956465902,\n",
       " 1979531127: 917851322,\n",
       " 1987861372: 826702002,\n",
       " 1837993852: 885048503,\n",
       " 1891821699: 799705393,\n",
       " 1819413234: 863996514,\n",
       " 1873177230: 653751433,\n",
       " 1831093175: 882316785,\n",
       " 1566644583: 808721326,\n",
       " 1831086359: 878754372,\n",
       " 1268999558: 632023467,\n",
       " 1547936972: 532409513,\n",
       " 1858457670: 875068530,\n",
       " 1875091506: 844661106,\n",
       " 1861245666: 848701882,\n",
       " 1803715523: 687422820,\n",
       " 1837932010: 689308141,\n",
       " 1815334692: 799237366,\n",
       " 1859926972: 897276232,\n",
       " 1641809449: 870471343,\n",
       " 1869443279: 825671404,\n",
       " 1853020253: 808272690,\n",
       " 1726304643: 824240755,\n",
       " 1731824494: 718243791,\n",
       " 1881283525: 809239226,\n",
       " 1882520859: 828905891,\n",
       " 1568072211: 556106232,\n",
       " 1772058336: 840413790,\n",
       " 1809131792: 529956064,\n",
       " 1626258781: 735058138,\n",
       " 1796726856: 703525119,\n",
       " 1567780240: 439479008,\n",
       " 1619368568: 487200952,\n",
       " 1526387487: 759694126,\n",
       " 1732151368: 645648578,\n",
       " 1697994507: 640039871,\n",
       " 1705973641: 692630256,\n",
       " 1696864718: 606488441,\n",
       " 1701181463: 716799497,\n",
       " 1670991532: 793970177,\n",
       " 1225051568: 547249017,\n",
       " 1636200606: 687345269,\n",
       " 1673800216: 770993122,\n",
       " 1634429133: 728811619,\n",
       " 1662065573: 736719968,\n",
       " 1583487694: 737742376,\n",
       " 1761364874: 662766082,\n",
       " 1613486635: 724331923,\n",
       " 1683458412: 428716372,\n",
       " 1695855479: 646083666,\n",
       " 1717327731: 676753666,\n",
       " 1279324897: 654240542,\n",
       " 1487844166: 689992439,\n",
       " 1694925628: 354095296,\n",
       " 1716330646: 636770426,\n",
       " 1732774098: 442370668,\n",
       " 1770520294: 675114061,\n",
       " 1504813929: 666375388,\n",
       " 1786917042: 562333691,\n",
       " 1591552838: 795368015,\n",
       " 1649211274: 471065648,\n",
       " 1772689849: 778287809,\n",
       " 1731567310: 667077004,\n",
       " 1614534828: 534761532,\n",
       " 1737078850: 665024517,\n",
       " 1757977494: 456923842,\n",
       " 1509717743: 573487096,\n",
       " 1596218315: 589455968,\n",
       " 1536336873: 568585997,\n",
       " 1586326186: 496451064,\n",
       " 1593194981: 519229229,\n",
       " 1528050342: 538846489,\n",
       " 1509005080: 440517008,\n",
       " 1548647758: 532061550,\n",
       " 1546295312: 537478067,\n",
       " 1482154090: 537710416,\n",
       " 1353239177: 525229300,\n",
       " 1451292828: 519241471,\n",
       " 1202557648: 579435722,\n",
       " 1262621239: 581886283,\n",
       " 1351260443: 535929484,\n",
       " 1419219997: 325951209,\n",
       " 1117831928: 522589237,\n",
       " 1343921138: 551400518,\n",
       " 1382873684: 518467584,\n",
       " 1193175231: 531168822,\n",
       " 1499960604: 443856379,\n",
       " 1471149670: 568697318,\n",
       " 1242265407: 434101451,\n",
       " 1247717374: 322328509,\n",
       " 1491879826: 396474264,\n",
       " 1496827548: 333576999,\n",
       " 1368117734: 424219467,\n",
       " 1207164588: 470126474,\n",
       " 1497995420: 324816395,\n",
       " 1304309957: 497730310,\n",
       " 1189980400: 401890013,\n",
       " 1413718760: 404864791,\n",
       " 1170268083: 342079205,\n",
       " 1383021170: 421656341,\n",
       " 1177594004: 491848965,\n",
       " 1468068978: 343244997,\n",
       " 1172216922: 286974900,\n",
       " 1239497927: 362633889,\n",
       " 1358894681: 309695026}"
      ]
     },
     "execution_count": 61,
     "metadata": {},
     "output_type": "execute_result"
    }
   ],
   "source": [
    "def find_migrated_chats(chats):\n",
    "    res = {}\n",
    "    for chat in chats:\n",
    "        if hasattr(chat.entity, 'migrated_to') and chat.entity.migrated_to:\n",
    "            res[chat.entity.migrated_to['channel_id']] = chat.id\n",
    "    return res\n",
    "\n",
    "\n",
    "migrated_chats = find_migrated_chats(list(chats.values()))\n",
    "migrated_chats\n",
    "\n"
   ]
  },
  {
   "cell_type": "code",
   "execution_count": 64,
   "metadata": {},
   "outputs": [
    {
     "name": "stdout",
     "output_type": "stream",
     "text": [
      "{380095097, 441522686}\n",
      "{518467584, 793970177, 662766082, 665024517, 716799497, 324816395, 1546295312, 4285323792, 1568072211, 1884941844, 1701181463, 1673800216, 4034312731, 1419219997, 1774768679, 737742376, 1613486635, 471065648, 1875091506, 309695026, 522589237, 1909907510, 531168822, 1262621239, 534761532, 922054207, 1737078850, 878754372, 551400518, 853080652, 675114061, 1856826958, 795368015, 646083666, 4047029843, 1382873684, 869103189, 1358894681, 1172216922, 842213978, 1853020253, 989764703, 736719968, 589455968, 1970659426, 2328538213, 1471149670, 1573364327, 4091330664, 1935954536, 1482154090, 2469684847, 1468068978, 1383021170, 824240755, 687345269, 636770426, 973057661, 1962376326, 653751433, 1353239177, 2214532747, 4009975433, 535929484, 1873177230, 990887571, 1177594004, 740317843, 1716330646, 4520774806, 936906393, 1451292828, 1497995420, 1636200606, 1496827548, 4050559646, 1688225441, 362633889, 1528050342, 1586326186, 1614534828, 1670991532, 1207164588, 4555336881, 1838785717, 885048503, 917851322, 1193175231, 354095296, 2183446721, 778287809, 456923842, 1304309957, 343244997, 1239497927, 579435722, 434101451, 1583487694, 1869443279, 1731567310, 1202557648, 2113860306, 1603401429, 735058138, 666375388, 1987512543, 4547775711, 529956064, 1772058336, 1279324897, 439479008, 973307620, 1770520294, 342079205, 1413718760, 325951209, 825671404, 1630255855, 1509717743, 692630256, 525229300, 2034166005, 799237366, 4245239542, 689992439, 1117831928, 2133558009, 519241471, 4510781697, 4199016706, 676753666, 491848965, 4568387333, 497730310, 856642322, 2409045781, 421656341, 1831086359, 1509005080, 538846489, 404864791, 1351260443, 1499960604, 1907528478, 654240542, 832525604, 1815334692, 333576999, 519229229, 4580075313, 808272690, 2456716085, 4259202873, 1694925628, 1242265407, 1487844166, 1591552838, 897276232, 581886283, 424219467, 1548647758, 4220042575, 537710416, 2058168658, 2083248468, 428716372, 686434646, 1917403481, 453526874, 1626258781, 4574959453, 4120251230, 880684391, 1504813929, 927338858, 1683458412, 4276890476, 532061550, 844661106, 1717327731, 1979531127, 2017993592, 1695855479, 842866554, 1837993852, 1726304643, 1989519236, 1268999558, 1964441991, 1705973641, 1761364874, 1649211274, 667077004, 470126474, 1567780240, 440517008, 1491879826, 724331923, 1757977494, 396474264, 573487096, 1836805018, 959701405, 2013444515, 1662065573, 2220977064, 632023467, 1833895854, 1170268083, 537478067, 286974900, 1831093175, 1772689849, 1859926972, 322328509, 2373457856, 1917804487, 869177800, 496451064, 1596218315, 1776872918, 2225560544, 770993122, 1593194981, 1368117734, 568697318, 556106232, 882316785, 2115304434, 1343921138, 1587851767, 4112191480, 443856379, 1247717374}\n"
     ]
    }
   ],
   "source": [
    "# let's find if duplicate chats and migrated chats are the same\n",
    "all_duplicate_ids = set()\n",
    "for x in duplicate_chats.values():\n",
    "    for y in x:\n",
    "        all_duplicate_ids.add(y)\n",
    "\n",
    "all_migrated_ids = set(migrated_chats.keys()) | set(migrated_chats.values())\n",
    "\n",
    "duplicate_but_not_migrated = all_duplicate_ids - all_migrated_ids\n",
    "\n",
    "migrated_but_not_duplicate = all_migrated_ids - all_duplicate_ids\n",
    "\n",
    "print(duplicate_but_not_migrated)\n",
    "print(migrated_but_not_duplicate)\n",
    "\n",
    "\n"
   ]
  },
  {
   "cell_type": "code",
   "execution_count": 65,
   "metadata": {},
   "outputs": [
    {
     "data": {
      "text/plain": [
       "'ДР Масальцева [380095097]'"
      ]
     },
     "execution_count": 65,
     "metadata": {},
     "output_type": "execute_result"
    }
   ],
   "source": [
    "chat_names[380095097]"
   ]
  },
  {
   "cell_type": "code",
   "execution_count": 66,
   "metadata": {},
   "outputs": [
    {
     "data": {
      "text/plain": [
       "'ДР Масальцева [441522686]'"
      ]
     },
     "execution_count": 66,
     "metadata": {},
     "output_type": "execute_result"
    }
   ],
   "source": [
    "chat_names[441522686]"
   ]
  },
  {
   "cell_type": "code",
   "execution_count": 70,
   "metadata": {},
   "outputs": [
    {
     "data": {
      "text/plain": [
       "4034312731"
      ]
     },
     "execution_count": 70,
     "metadata": {},
     "output_type": "execute_result"
    }
   ],
   "source": [
    "migrated_chats[2115304434]"
   ]
  },
  {
   "cell_type": "code",
   "execution_count": 71,
   "metadata": {},
   "outputs": [
    {
     "data": {
      "text/plain": [
       "'Музыкальные Мамы (и лучшие!) [2115304434]'"
      ]
     },
     "execution_count": 71,
     "metadata": {},
     "output_type": "execute_result"
    }
   ],
   "source": [
    "chat_names[2115304434]\n"
   ]
  },
  {
   "cell_type": "code",
   "execution_count": 72,
   "metadata": {},
   "outputs": [
    {
     "data": {
      "text/plain": [
       "'Федерация Боевых Мам [4034312731]'"
      ]
     },
     "execution_count": 72,
     "metadata": {},
     "output_type": "execute_result"
    }
   ],
   "source": [
    "chat_names[4034312731]"
   ]
  },
  {
   "cell_type": "code",
   "execution_count": 92,
   "metadata": {},
   "outputs": [],
   "source": [
    "def find_duplicate_messages(messages: list[dict]):\n",
    "    \"\"\"Find only total duplicates - all fields are the same\"\"\"\n",
    "    # step 1: find messages with the same id\n",
    "    messages_by_id = defaultdict(list)\n",
    "    for message in messages:\n",
    "        messages_by_id[message['id']].append(message)\n",
    "\n",
    "    # step 2: if messages ids match - check that all fields are the same. if yes - duplicate, if no - warn\n",
    "    duplicates = {}\n",
    "    to_delete = []\n",
    "    for message_id, messages in messages_by_id.items():\n",
    "        if len(messages) > 1:\n",
    "            duplicates[message_id] = messages\n",
    "            item = messages[0]\n",
    "            item.pop(\"_id\")\n",
    "            items_to_compare = [item]\n",
    "            for message in messages[1:]:\n",
    "                _id = message.pop(\"_id\")\n",
    "                duplicate = False\n",
    "                for item in items_to_compare:\n",
    "                    if item == message:\n",
    "                        duplicate = True\n",
    "                if duplicate:\n",
    "                    to_delete.append(_id)\n",
    "                else:\n",
    "                    items_to_compare.append(message)\n",
    "    return duplicates, to_delete\n",
    "\n",
    "\n",
    "duplicates, to_delete = find_duplicate_messages(data)\n",
    "\n"
   ]
  },
  {
   "cell_type": "code",
   "execution_count": 93,
   "metadata": {},
   "outputs": [
    {
     "data": {
      "text/plain": [
       "1870"
      ]
     },
     "execution_count": 93,
     "metadata": {},
     "output_type": "execute_result"
    }
   ],
   "source": [
    "len(to_delete)"
   ]
  },
  {
   "cell_type": "code",
   "execution_count": 94,
   "metadata": {},
   "outputs": [
    {
     "data": {
      "text/plain": [
       "3432"
      ]
     },
     "execution_count": 94,
     "metadata": {},
     "output_type": "execute_result"
    }
   ],
   "source": [
    "len(duplicates)"
   ]
  },
  {
   "cell_type": "code",
   "execution_count": 96,
   "metadata": {},
   "outputs": [
    {
     "name": "stdout",
     "output_type": "stream",
     "text": [
      "Deleted 1870 documents.\n"
     ]
    }
   ],
   "source": [
    "result = message_collection.delete_many({'_id': {'$in': to_delete}})\n",
    "print(f\"Deleted {result.deleted_count} documents.\")\n"
   ]
  },
  {
   "cell_type": "code",
   "execution_count": 85,
   "metadata": {},
   "outputs": [
    {
     "data": {
      "text/plain": [
       "{'_id': ObjectId('6775b1d300237e621ab7e407'),\n",
       " '_': 'Message',\n",
       " 'id': 247596,\n",
       " 'peer_id': {'_': 'PeerUser', 'user_id': 322324998},\n",
       " 'date': datetime.datetime(2024, 4, 3, 13, 53, 56),\n",
       " 'message': 'Спасибо 🙏',\n",
       " 'out': False,\n",
       " 'mentioned': False,\n",
       " 'media_unread': False,\n",
       " 'silent': False,\n",
       " 'post': False,\n",
       " 'from_scheduled': False,\n",
       " 'legacy': False,\n",
       " 'edit_hide': False,\n",
       " 'pinned': False,\n",
       " 'noforwards': False,\n",
       " 'invert_media': False,\n",
       " 'offline': False,\n",
       " 'video_processing_pending': False,\n",
       " 'from_id': None,\n",
       " 'from_boosts_applied': None,\n",
       " 'saved_peer_id': None,\n",
       " 'fwd_from': None,\n",
       " 'via_bot_id': None,\n",
       " 'via_business_bot_id': None,\n",
       " 'reply_to': None,\n",
       " 'media': None,\n",
       " 'reply_markup': None,\n",
       " 'entities': [],\n",
       " 'views': None,\n",
       " 'forwards': None,\n",
       " 'replies': None,\n",
       " 'edit_date': None,\n",
       " 'post_author': None,\n",
       " 'grouped_id': None,\n",
       " 'reactions': None,\n",
       " 'restriction_reason': [],\n",
       " 'ttl_period': None,\n",
       " 'quick_reply_shortcut_id': None,\n",
       " 'effect': None,\n",
       " 'factcheck': None}"
      ]
     },
     "execution_count": 85,
     "metadata": {},
     "output_type": "execute_result"
    }
   ],
   "source": [
    "item"
   ]
  },
  {
   "cell_type": "code",
   "execution_count": 97,
   "metadata": {},
   "outputs": [
    {
     "data": {
      "text/plain": [
       "ObjectId('677551ef1f55f66c615a28bf')"
      ]
     },
     "execution_count": 97,
     "metadata": {},
     "output_type": "execute_result"
    }
   ],
   "source": [
    "to_delete[0]"
   ]
  },
  {
   "cell_type": "code",
   "execution_count": null,
   "metadata": {},
   "outputs": [],
   "source": []
  }
 ],
 "metadata": {
  "kernelspec": {
   "display_name": ".venv",
   "language": "python",
   "name": "python3"
  },
  "language_info": {
   "codemirror_mode": {
    "name": "ipython",
    "version": 3
   },
   "file_extension": ".py",
   "mimetype": "text/x-python",
   "name": "python",
   "nbconvert_exporter": "python",
   "pygments_lexer": "ipython3",
   "version": "3.13.1"
  }
 },
 "nbformat": 4,
 "nbformat_minor": 2
}
